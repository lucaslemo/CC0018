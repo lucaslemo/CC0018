{
 "cells": [
  {
   "cell_type": "markdown",
   "metadata": {},
   "source": [
    "# Atividade prática 1\n",
    "### Robô aspirador autônomo"
   ]
  },
  {
   "cell_type": "markdown",
   "metadata": {},
   "source": [
    "Vocês estão projetando um sistema para calcular a trajetória de um robô aspirador autônomo.\n",
    "Inicialmente, o sistema deve ser capaz de conduzir o robô ladeando as paredes de um cômodo sem que haja colisões.\n",
    "Por isso, ele deverá passar pelo seguinte teste."
   ]
  },
  {
   "cell_type": "markdown",
   "metadata": {},
   "source": [
    "Considerem uma parede representada por uma reta $L$ no plano euclideano, definida pelos pontos $P(12,12)$ e $Q(24,24)$.\n",
    "Suponha o robô inicialmente posicionado no ponto $O(0,17\\delta)$, onde $\\delta = 2^{-53}$.\n",
    "A tarefa de vocês é calcular uma trajetória para que o robô se desloque até que a distância horizontal entre $O$ e sua posição ao final da trajetória atinja $34\\delta$."
   ]
  },
  {
   "cell_type": "markdown",
   "metadata": {},
   "source": [
    "O robô deve se manter sempre o mais próximo possível da parede, mas nunca andar sobre ela, nem atravessá-la.\n",
    "A cada movimentação do robô, ele pode dar um passo de tamanho $\\delta$ ao longo do eixo $x$ (andar na horizontal) ou do eixo $y$ (andar na vertical), ou de ambos ao mesmo tempo (andar na diagonal)."
   ]
  },
  {
   "cell_type": "markdown",
   "metadata": {},
   "source": [
    "## Teste de orientação"
   ]
  },
  {
   "cell_type": "markdown",
   "metadata": {},
   "source": [
    "Os únicos dados que estarão disponíveis para embasar a decisão de parada ou movimentação do robô serão os pontos $O(O_x, O_y)$, $P(P_x, P_y)$, $Q(Q_x, Q_y)$ e sua posição atual, denotada por $R(R_x,R_y)$.\n",
    "Da geometria analítica, sabemos que é possível classificar a posição relativa do ponto $R$ com relação à reta $L$ gerada por $P$ e $Q$ como:"
   ]
  },
  {
   "cell_type": "markdown",
   "metadata": {},
   "source": [
    "* à esquerda de $L$;\n",
    "* sobre a reta $L$;\n",
    "* à direita de $L$."
   ]
  },
  {
   "cell_type": "markdown",
   "metadata": {},
   "source": [
    "Algebricamente, a orientação estabelecida pelos pontos $P$, $Q$ e $R$ varia de acordo com o sinal de um determinante:"
   ]
  },
  {
   "cell_type": "markdown",
   "metadata": {},
   "source": [
    "\\begin{align*}\n",
    "\\operatorname{orientacao}(P,Q,R) &= \n",
    "\\operatorname{sinal}\\left(\\det \\begin{bmatrix}1 & P_x & P_y\\\\\n",
    "1 & Q_x & Q_y\\\\\n",
    "1 & R_x & R_y \\end{bmatrix}\\right).\n",
    "\\end{align*}"
   ]
  },
  {
   "cell_type": "markdown",
   "metadata": {},
   "source": [
    "O resultado será $\\operatorname{orientacao}(P, Q, R) = +1$ se e somente se o ponto $R$ estiver à esquerda da reta $L$.\n",
    "Já quando $\\operatorname{orientacao}(P, Q, R)$ for igual a $-1$, o ponto $R$ estará à direita de $L$.\n",
    "Os pontos serão colineares quando obtivermos $\\operatorname{orientacao}(P, Q, R) = 0$."
   ]
  },
  {
   "cell_type": "markdown",
   "metadata": {},
   "source": [
    "## Cálculo da trajetória"
   ]
  },
  {
   "cell_type": "markdown",
   "metadata": {},
   "source": [
    "*(a) Descrevam abaixo, em palavras, o algoritmo para o cálculo da trajetória do robô. Caso necessário, vocês poderão inserir figuras para ilustrar seu funcionamento. É mandatório o emprego do teste de orientação apresentado anteriormente.*"
   ]
  },
  {
   "cell_type": "markdown",
   "metadata": {},
   "source": [
    "*Iniciando o robô à uma distância δ, temos que, para que o robô ande o mais próximo da reta L, Ry tem que ser sempre maior que Rx, e o determinante estabelecido tem que ser igual a 1. Quando Rx = 34δ, o robô deve parar, e logo, o algoritmo também.*"
   ]
  },
  {
   "cell_type": "markdown",
   "metadata": {},
   "source": [
    "*(b) Coloquem na célula abaixo a implementação do algoritmo que acabaram de descrever.\n",
    " É mandatório o uso do teste de orientação apresentado anteriormente.\n",
    " Deve-se usar o tipo `float` da Python para armazenar as coordenadas dos pontos.*"
   ]
  },
  {
   "cell_type": "code",
   "execution_count": 1,
   "metadata": {},
   "outputs": [],
   "source": [
    "# Digite sua implementação do algoritmo aqui."
   ]
  },
  {
   "cell_type": "markdown",
   "metadata": {},
   "source": [
    "## Desenho da trajetória"
   ]
  },
  {
   "cell_type": "markdown",
   "metadata": {},
   "source": [
    "*(c) Desenhe a trajetória calculada usando a matplotlib. Fique à vontade para produzir animações.*"
   ]
  },
  {
   "cell_type": "code",
   "execution_count": 2,
   "metadata": {},
   "outputs": [],
   "source": [
    "# Digite o código para desenhar a trajetória aqui."
   ]
  },
  {
   "cell_type": "markdown",
   "metadata": {},
   "source": [
    "## Comprimento da trajetória"
   ]
  },
  {
   "cell_type": "markdown",
   "metadata": {},
   "source": [
    "*(d) Calcule e exiba na tela o comprimento da trajetória calculada.*"
   ]
  },
  {
   "cell_type": "code",
   "execution_count": 3,
   "metadata": {},
   "outputs": [],
   "source": [
    "# Digite o código para calcular o comprimento da trajetória aqui."
   ]
  },
  {
   "cell_type": "markdown",
   "metadata": {},
   "source": [
    "## Considerações finais"
   ]
  },
  {
   "cell_type": "markdown",
   "metadata": {},
   "source": [
    "*(e) O que você achou da sua solução? Ela é a melhor possível? Quais foram as principais dificuldades encontradas?*"
   ]
  },
  {
   "cell_type": "markdown",
   "metadata": {},
   "source": [
    "*Digite suas considerações finais aqui.*"
   ]
  }
 ],
 "metadata": {
  "kernelspec": {
   "display_name": "Python 3",
   "language": "python",
   "name": "python3"
  },
  "language_info": {
   "codemirror_mode": {
    "name": "ipython",
    "version": 3
   },
   "file_extension": ".py",
   "mimetype": "text/x-python",
   "name": "python",
   "nbconvert_exporter": "python",
   "pygments_lexer": "ipython3",
   "version": "3.7.3"
  }
 },
 "nbformat": 4,
 "nbformat_minor": 4
}
